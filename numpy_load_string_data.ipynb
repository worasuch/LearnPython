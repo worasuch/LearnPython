{
 "cells": [
  {
   "cell_type": "code",
   "execution_count": 1,
   "metadata": {},
   "outputs": [],
   "source": [
    "import numpy as np"
   ]
  },
  {
   "cell_type": "code",
   "execution_count": 3,
   "metadata": {},
   "outputs": [
    {
     "data": {
      "text/plain": [
       "array(['SAD!', 'Moonlight', 'Jocelyn Flores', 'One Kiss (with Dua Lipa)',\n",
       "       'Better Now', 'I Like It', 'Lucid Dreams',\n",
       "       'Girls Like You (feat, Cardi B)', 'changes',\n",
       "       'Solo (feat, Demi Lovato)'], dtype='<U30')"
      ]
     },
     "execution_count": 3,
     "metadata": {},
     "output_type": "execute_result"
    }
   ],
   "source": [
    "s = np.loadtxt('song.txt', dtype = 'U', delimiter='\\n')\n",
    "s"
   ]
  },
  {
   "cell_type": "code",
   "execution_count": 4,
   "metadata": {},
   "outputs": [
    {
     "name": "stdout",
     "output_type": "stream",
     "text": [
      "1 SAD!\n",
      "2 Moonlight\n",
      "3 Jocelyn Flores\n",
      "4 One Kiss (with Dua Lipa)\n",
      "5 Better Now\n",
      "6 I Like It\n",
      "7 Lucid Dreams\n",
      "8 Girls Like You (feat, Cardi B)\n",
      "9 changes\n",
      "10 Solo (feat, Demi Lovato)\n"
     ]
    }
   ],
   "source": [
    "for i, v in enumerate(s, start = 1):\n",
    "    print(i, v)"
   ]
  },
  {
   "cell_type": "markdown",
   "metadata": {},
   "source": [
    "# multiple columns"
   ]
  },
  {
   "cell_type": "code",
   "execution_count": 6,
   "metadata": {
    "collapsed": true
   },
   "outputs": [
    {
     "data": {
      "text/plain": [
       "array([['1', '\"DDU-DU DDU-DU\"', 'BLACKPINK', '26281',\n",
       "        'https://open.spotify.com/track/7b8YOVV5quZcSKEijDgyWB'],\n",
       "       ['2', '\"บอกตัวเอง (feat. โป่ง หินเหล็กไฟ)\"', '\"Room 39\"', '15788',\n",
       "        'https://open.spotify.com/track/3WQe3r4R1lnJs75ty9UYDF'],\n",
       "       ['3', '\"Girls Like You (feat. Cardi B)\"', '\"Maroon 5\"', '15299',\n",
       "        'https://open.spotify.com/track/7fa9MBXhVfQ8P8Df9OEbD8'],\n",
       "       ['4', 'ภาพจำ', '\"Pop Pongkool\"', '15045',\n",
       "        'https://open.spotify.com/track/4YRpjJaJpiI36HM36Dn5lS'],\n",
       "       ['5', '\"Forever Young\"', 'BLACKPINK', '14677',\n",
       "        'https://open.spotify.com/track/2naEVOadudtXHwtZNfjMDM'],\n",
       "       ['6', 'นอนได้แล้ว', '\"Fukking Hero\"', '13502',\n",
       "        'https://open.spotify.com/track/5JhLoyD2idGlKXwD9nmYuB'],\n",
       "       ['7', 'หมอกร้าย', 'Lipta', '13320',\n",
       "        'https://open.spotify.com/track/0EYgFMIXhjcFgX6xe2NY9v'],\n",
       "       ['8', 'ถ้าเธอต้องเลือก', 'Illslick', '12518',\n",
       "        'https://open.spotify.com/track/5Of65kRDivh4UHG3SG5Iad'],\n",
       "       ['9', '\"Good Morning Teacher\"', '\"Atom Chanakan\"', '11763',\n",
       "        'https://open.spotify.com/track/4AsE3bvoh6yuZls617lj4Z'],\n",
       "       ['10', '\"Back To You\"', '\"Selena Gomez\"', '11563',\n",
       "        'https://open.spotify.com/track/514rhnksEwHUh6LxXsQ4Y9'],\n",
       "       ['11', 'คนที่ไม่ใช่', 'O-Pavee', '11121',\n",
       "        'https://open.spotify.com/track/76rs0Apd4Ct5LwJm8pB6r1'],\n",
       "       ['12', 'Really', 'BLACKPINK', '10695',\n",
       "        'https://open.spotify.com/track/2r5oD7twaQTsv5KoRS6v16'],\n",
       "       ['13', 'กำลังจะ', 'Illslick', '10283',\n",
       "        'https://open.spotify.com/track/18kwPdB3Bx8n9Mk4YsO6LT'],\n",
       "       ['14', 'ถ้าฉันหายไป(Skyline)', '\"Earth Patravee\"', '10128',\n",
       "        'https://open.spotify.com/track/0goff2JabkZTEq1yKeyoM8'],\n",
       "       ['15', '\"Bed (feat. Ariana Grande)\"', '\"Nicki Minaj\"', '10094',\n",
       "        'https://open.spotify.com/track/1ZEm9cJC05rawV2tptNfTS'],\n",
       "       ['16', '\"Day 1 ◑\"', 'HONNE', '9352',\n",
       "        'https://open.spotify.com/track/7AWZvcyaSBxRzaBJcHf9XL'],\n",
       "       ['17', '2002', 'Anne-Marie', '9049',\n",
       "        'https://open.spotify.com/track/6SFStUDQZNaGPKWOx9ZiJB'],\n",
       "       ['18', '\"Better Now\"', '\"Post Malone\"', '9037',\n",
       "        'https://open.spotify.com/track/7dt6x5M1jzdTEt8oCbisTK'],\n",
       "       ['19', '\"Ocean (feat. Khalid)\"', '\"Martin Garrix\"', '9027',\n",
       "        'https://open.spotify.com/track/3nc420PXjTdBV5TN0gCFkS']],\n",
       "      dtype='<U53')"
      ]
     },
     "execution_count": 6,
     "metadata": {},
     "output_type": "execute_result"
    }
   ],
   "source": [
    "s1 = np.loadtxt('regional-th-daily-latest.csv', dtype = 'U', delimiter=',', skiprows=1)\n",
    "s1"
   ]
  },
  {
   "cell_type": "code",
   "execution_count": 7,
   "metadata": {},
   "outputs": [
    {
     "data": {
      "text/plain": [
       "array([['1', '\"DDU-DU DDU-DU\"', 'BLACKPINK', '26281',\n",
       "        'https://open.spotify.com/track/7b8YOVV5quZcSKEijDgyWB'],\n",
       "       ['2', '\"บอกตัวเอง (feat. โป่ง หินเหล็กไฟ)\"', '\"Room 39\"', '15788',\n",
       "        'https://open.spotify.com/track/3WQe3r4R1lnJs75ty9UYDF'],\n",
       "       ['3', '\"Girls Like You (feat. Cardi B)\"', '\"Maroon 5\"', '15299',\n",
       "        'https://open.spotify.com/track/7fa9MBXhVfQ8P8Df9OEbD8'],\n",
       "       ['4', 'ภาพจำ', '\"Pop Pongkool\"', '15045',\n",
       "        'https://open.spotify.com/track/4YRpjJaJpiI36HM36Dn5lS'],\n",
       "       ['5', '\"Forever Young\"', 'BLACKPINK', '14677',\n",
       "        'https://open.spotify.com/track/2naEVOadudtXHwtZNfjMDM']],\n",
       "      dtype='<U53')"
      ]
     },
     "execution_count": 7,
     "metadata": {},
     "output_type": "execute_result"
    }
   ],
   "source": [
    "s1[:5]"
   ]
  },
  {
   "cell_type": "code",
   "execution_count": 8,
   "metadata": {},
   "outputs": [
    {
     "data": {
      "text/plain": [
       "array(['\"DDU-DU DDU-DU\"', '\"บอกตัวเอง (feat. โป่ง หินเหล็กไฟ)\"',\n",
       "       '\"Girls Like You (feat. Cardi B)\"', 'ภาพจำ', '\"Forever Young\"',\n",
       "       'นอนได้แล้ว', 'หมอกร้าย', 'ถ้าเธอต้องเลือก',\n",
       "       '\"Good Morning Teacher\"', '\"Back To You\"', 'คนที่ไม่ใช่', 'Really',\n",
       "       'กำลังจะ', 'ถ้าฉันหายไป(Skyline)', '\"Bed (feat. Ariana Grande)\"',\n",
       "       '\"Day 1 ◑\"', '2002', '\"Better Now\"', '\"Ocean (feat. Khalid)\"'],\n",
       "      dtype='<U53')"
      ]
     },
     "execution_count": 8,
     "metadata": {},
     "output_type": "execute_result"
    }
   ],
   "source": [
    "s1[:, 1]"
   ]
  },
  {
   "cell_type": "code",
   "execution_count": 10,
   "metadata": {},
   "outputs": [
    {
     "data": {
      "text/plain": [
       "array([26281, 15788, 15299, 15045, 14677, 13502, 13320, 12518, 11763,\n",
       "       11563, 11121, 10695, 10283, 10128, 10094,  9352,  9049,  9037,\n",
       "        9027])"
      ]
     },
     "execution_count": 10,
     "metadata": {},
     "output_type": "execute_result"
    }
   ],
   "source": [
    "s1[:, 3].astype(int)"
   ]
  },
  {
   "cell_type": "code",
   "execution_count": 11,
   "metadata": {},
   "outputs": [
    {
     "data": {
      "text/plain": [
       "12554.842105263158"
      ]
     },
     "execution_count": 11,
     "metadata": {},
     "output_type": "execute_result"
    }
   ],
   "source": [
    "np.mean(s1[:, 3].astype(int))"
   ]
  },
  {
   "cell_type": "code",
   "execution_count": 12,
   "metadata": {},
   "outputs": [
    {
     "data": {
      "text/plain": [
       "array([['1', '\"DDU-DU DDU-DU\"', 'BLACKPINK', '26281',\n",
       "        'https://open.spotify.com/track/7b8YOVV5quZcSKEijDgyWB'],\n",
       "       ['2', '\"บอกตัวเอง (feat. โป่ง หินเหล็กไฟ)\"', '\"Room 39\"', '15788',\n",
       "        'https://open.spotify.com/track/3WQe3r4R1lnJs75ty9UYDF'],\n",
       "       ['3', '\"Girls Like You (feat. Cardi B)\"', '\"Maroon 5\"', '15299',\n",
       "        'https://open.spotify.com/track/7fa9MBXhVfQ8P8Df9OEbD8'],\n",
       "       ['4', 'ภาพจำ', '\"Pop Pongkool\"', '15045',\n",
       "        'https://open.spotify.com/track/4YRpjJaJpiI36HM36Dn5lS']],\n",
       "      dtype='<U53')"
      ]
     },
     "execution_count": 12,
     "metadata": {},
     "output_type": "execute_result"
    }
   ],
   "source": [
    "s1[s1[:, 3].astype(int) > 15000]"
   ]
  },
  {
   "cell_type": "code",
   "execution_count": null,
   "metadata": {},
   "outputs": [],
   "source": []
  }
 ],
 "metadata": {
  "kernelspec": {
   "display_name": "Python 3",
   "language": "python",
   "name": "python3"
  },
  "language_info": {
   "codemirror_mode": {
    "name": "ipython",
    "version": 3
   },
   "file_extension": ".py",
   "mimetype": "text/x-python",
   "name": "python",
   "nbconvert_exporter": "python",
   "pygments_lexer": "ipython3",
   "version": "3.5.2"
  }
 },
 "nbformat": 4,
 "nbformat_minor": 2
}

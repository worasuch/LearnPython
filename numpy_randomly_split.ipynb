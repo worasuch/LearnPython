{
 "cells": [
  {
   "cell_type": "code",
   "execution_count": 1,
   "metadata": {},
   "outputs": [],
   "source": [
    "import numpy as np"
   ]
  },
  {
   "cell_type": "code",
   "execution_count": 2,
   "metadata": {},
   "outputs": [
    {
     "data": {
      "text/plain": [
       "array([ 1,  2,  3,  4,  5,  6,  7,  8,  9, 10])"
      ]
     },
     "execution_count": 2,
     "metadata": {},
     "output_type": "execute_result"
    }
   ],
   "source": [
    "team=np.arange(1, 11)\n",
    "team"
   ]
  },
  {
   "cell_type": "code",
   "execution_count": 8,
   "metadata": {},
   "outputs": [
    {
     "data": {
      "text/plain": [
       "array([ 6,  2,  5,  4, 10,  3,  9,  8,  7,  1])"
      ]
     },
     "execution_count": 8,
     "metadata": {},
     "output_type": "execute_result"
    }
   ],
   "source": [
    "np.random.shuffle(team)\n",
    "team"
   ]
  },
  {
   "cell_type": "code",
   "execution_count": 10,
   "metadata": {},
   "outputs": [
    {
     "name": "stdout",
     "output_type": "stream",
     "text": [
      "[ 6  2  5  4 10  3  9]\n",
      "[8 7 1]\n"
     ]
    }
   ],
   "source": [
    "training, test = team[:7], team[7:]\n",
    "print(training)\n",
    "print(test)"
   ]
  },
  {
   "cell_type": "code",
   "execution_count": 12,
   "metadata": {},
   "outputs": [
    {
     "data": {
      "text/plain": [
       "array([[273, 241, 120, 341],\n",
       "       [163, 374, 301, 110],\n",
       "       [183, 267, 123, 221],\n",
       "       [269, 316, 321, 303],\n",
       "       [292, 249, 174, 175],\n",
       "       [130, 287, 165, 229],\n",
       "       [179, 190, 293, 357],\n",
       "       [269, 223, 284, 394],\n",
       "       [383, 197, 264, 236],\n",
       "       [291, 260, 284, 104]])"
      ]
     },
     "execution_count": 12,
     "metadata": {},
     "output_type": "execute_result"
    }
   ],
   "source": [
    "d=np.random.randint(100, 400, size=(10, 4))\n",
    "d"
   ]
  },
  {
   "cell_type": "code",
   "execution_count": 13,
   "metadata": {},
   "outputs": [
    {
     "data": {
      "text/plain": [
       "array([[183, 267, 123, 221],\n",
       "       [269, 223, 284, 394],\n",
       "       [383, 197, 264, 236],\n",
       "       [291, 260, 284, 104],\n",
       "       [273, 241, 120, 341],\n",
       "       [292, 249, 174, 175],\n",
       "       [269, 316, 321, 303],\n",
       "       [130, 287, 165, 229],\n",
       "       [179, 190, 293, 357],\n",
       "       [163, 374, 301, 110]])"
      ]
     },
     "execution_count": 13,
     "metadata": {},
     "output_type": "execute_result"
    }
   ],
   "source": [
    "np.random.shuffle(d)\n",
    "d"
   ]
  },
  {
   "cell_type": "code",
   "execution_count": 14,
   "metadata": {},
   "outputs": [
    {
     "data": {
      "text/plain": [
       "array([[183, 267, 123, 221],\n",
       "       [269, 223, 284, 394],\n",
       "       [383, 197, 264, 236],\n",
       "       [291, 260, 284, 104],\n",
       "       [273, 241, 120, 341],\n",
       "       [292, 249, 174, 175],\n",
       "       [269, 316, 321, 303]])"
      ]
     },
     "execution_count": 14,
     "metadata": {},
     "output_type": "execute_result"
    }
   ],
   "source": [
    "training, test = d[:7], d[7:]\n",
    "training"
   ]
  },
  {
   "cell_type": "code",
   "execution_count": 15,
   "metadata": {},
   "outputs": [
    {
     "data": {
      "text/plain": [
       "array([[130, 287, 165, 229],\n",
       "       [179, 190, 293, 357],\n",
       "       [163, 374, 301, 110]])"
      ]
     },
     "execution_count": 15,
     "metadata": {},
     "output_type": "execute_result"
    }
   ],
   "source": [
    "test"
   ]
  },
  {
   "cell_type": "markdown",
   "metadata": {},
   "source": [
    "# method 2"
   ]
  },
  {
   "cell_type": "code",
   "execution_count": 16,
   "metadata": {},
   "outputs": [
    {
     "data": {
      "text/plain": [
       "array([[131, 362, 247, 283],\n",
       "       [354, 285, 153, 262],\n",
       "       [180, 394, 315, 148],\n",
       "       [186, 388, 290, 285],\n",
       "       [338, 145, 361, 375],\n",
       "       [388, 222, 166, 179],\n",
       "       [301, 321, 121, 381],\n",
       "       [262, 395, 204, 357],\n",
       "       [222, 248, 343, 121],\n",
       "       [252, 303, 387, 215]])"
      ]
     },
     "execution_count": 16,
     "metadata": {},
     "output_type": "execute_result"
    }
   ],
   "source": [
    "d=np.random.randint(100, 400, size=(10, 4))\n",
    "d"
   ]
  },
  {
   "cell_type": "code",
   "execution_count": 19,
   "metadata": {},
   "outputs": [
    {
     "data": {
      "text/plain": [
       "array([2, 7, 4, 6, 8, 0, 9])"
      ]
     },
     "execution_count": 19,
     "metadata": {},
     "output_type": "execute_result"
    }
   ],
   "source": [
    "r1 = np.random.choice(np.arange(d.shape[0]), size=7, replace=False)\n",
    "r1"
   ]
  },
  {
   "cell_type": "code",
   "execution_count": 20,
   "metadata": {},
   "outputs": [
    {
     "data": {
      "text/plain": [
       "array([[180, 394, 315, 148],\n",
       "       [262, 395, 204, 357],\n",
       "       [338, 145, 361, 375],\n",
       "       [301, 321, 121, 381],\n",
       "       [222, 248, 343, 121],\n",
       "       [131, 362, 247, 283],\n",
       "       [252, 303, 387, 215]])"
      ]
     },
     "execution_count": 20,
     "metadata": {},
     "output_type": "execute_result"
    }
   ],
   "source": [
    "training=d[r1]\n",
    "training"
   ]
  },
  {
   "cell_type": "code",
   "execution_count": 21,
   "metadata": {},
   "outputs": [
    {
     "data": {
      "text/plain": [
       "array([1, 3, 5])"
      ]
     },
     "execution_count": 21,
     "metadata": {},
     "output_type": "execute_result"
    }
   ],
   "source": [
    "np.setdiff1d(np.arange(d.shape[0]), r1)"
   ]
  },
  {
   "cell_type": "code",
   "execution_count": 22,
   "metadata": {},
   "outputs": [
    {
     "data": {
      "text/plain": [
       "array([[354, 285, 153, 262],\n",
       "       [186, 388, 290, 285],\n",
       "       [388, 222, 166, 179]])"
      ]
     },
     "execution_count": 22,
     "metadata": {},
     "output_type": "execute_result"
    }
   ],
   "source": [
    "test=d[np.setdiff1d(np.arange(d.shape[0]), r1)]\n",
    "test"
   ]
  }
 ],
 "metadata": {
  "kernelspec": {
   "display_name": "Python 3",
   "language": "python",
   "name": "python3"
  },
  "language_info": {
   "codemirror_mode": {
    "name": "ipython",
    "version": 3
   },
   "file_extension": ".py",
   "mimetype": "text/x-python",
   "name": "python",
   "nbconvert_exporter": "python",
   "pygments_lexer": "ipython3",
   "version": "3.5.2"
  }
 },
 "nbformat": 4,
 "nbformat_minor": 2
}

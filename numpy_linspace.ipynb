{
 "cells": [
  {
   "cell_type": "code",
   "execution_count": 1,
   "metadata": {},
   "outputs": [],
   "source": [
    "import numpy as np"
   ]
  },
  {
   "cell_type": "code",
   "execution_count": 2,
   "metadata": {},
   "outputs": [
    {
     "data": {
      "text/plain": [
       "array([ 1,  2,  3,  4,  5,  6,  7,  8,  9, 10])"
      ]
     },
     "execution_count": 2,
     "metadata": {},
     "output_type": "execute_result"
    }
   ],
   "source": [
    "np.arange(1, 11)"
   ]
  },
  {
   "cell_type": "code",
   "execution_count": 4,
   "metadata": {},
   "outputs": [
    {
     "data": {
      "text/plain": [
       "array([1, 3, 5, 7, 9])"
      ]
     },
     "execution_count": 4,
     "metadata": {},
     "output_type": "execute_result"
    }
   ],
   "source": [
    "np.arange(1, 11, 2)"
   ]
  },
  {
   "cell_type": "code",
   "execution_count": 6,
   "metadata": {},
   "outputs": [
    {
     "data": {
      "text/plain": [
       "array([ 1.        ,  1.47368421,  1.94736842,  2.42105263,  2.89473684,\n",
       "        3.36842105,  3.84210526,  4.31578947,  4.78947368,  5.26315789,\n",
       "        5.73684211,  6.21052632,  6.68421053,  7.15789474,  7.63157895,\n",
       "        8.10526316,  8.57894737,  9.05263158,  9.52631579, 10.        ])"
      ]
     },
     "execution_count": 6,
     "metadata": {},
     "output_type": "execute_result"
    }
   ],
   "source": [
    "np.linspace(1, 10, 20)"
   ]
  },
  {
   "cell_type": "code",
   "execution_count": 7,
   "metadata": {},
   "outputs": [
    {
     "data": {
      "text/plain": [
       "3.141592653589793"
      ]
     },
     "execution_count": 7,
     "metadata": {},
     "output_type": "execute_result"
    }
   ],
   "source": [
    "np.pi"
   ]
  },
  {
   "cell_type": "code",
   "execution_count": 13,
   "metadata": {},
   "outputs": [
    {
     "data": {
      "text/plain": [
       "array([0.        , 0.07059759, 0.14119518, 0.21179276, 0.28239035,\n",
       "       0.35298794, 0.42358553, 0.49418311, 0.5647807 , 0.63537829,\n",
       "       0.70597588, 0.77657346, 0.84717105, 0.91776864, 0.98836623,\n",
       "       1.05896382, 1.1295614 , 1.20015899, 1.27075658, 1.34135417,\n",
       "       1.41195175, 1.48254934, 1.55314693, 1.62374452, 1.69434211,\n",
       "       1.76493969, 1.83553728, 1.90613487, 1.97673246, 2.04733004,\n",
       "       2.11792763, 2.18852522, 2.25912281, 2.32972039, 2.40031798,\n",
       "       2.47091557, 2.54151316, 2.61211075, 2.68270833, 2.75330592,\n",
       "       2.82390351, 2.8945011 , 2.96509868, 3.03569627, 3.10629386,\n",
       "       3.17689145, 3.24748904, 3.31808662, 3.38868421, 3.4592818 ,\n",
       "       3.52987939, 3.60047697, 3.67107456, 3.74167215, 3.81226974,\n",
       "       3.88286732, 3.95346491, 4.0240625 , 4.09466009, 4.16525768,\n",
       "       4.23585526, 4.30645285, 4.37705044, 4.44764803, 4.51824561,\n",
       "       4.5888432 , 4.65944079, 4.73003838, 4.80063597, 4.87123355,\n",
       "       4.94183114, 5.01242873, 5.08302632, 5.1536239 , 5.22422149,\n",
       "       5.29481908, 5.36541667, 5.43601425, 5.50661184, 5.57720943,\n",
       "       5.64780702, 5.71840461, 5.78900219, 5.85959978, 5.93019737,\n",
       "       6.00079496, 6.07139254, 6.14199013, 6.21258772, 6.28318531])"
      ]
     },
     "execution_count": 13,
     "metadata": {},
     "output_type": "execute_result"
    }
   ],
   "source": [
    "x = np.linspace(0, 2*np.pi, 90)\n",
    "x"
   ]
  },
  {
   "cell_type": "code",
   "execution_count": 15,
   "metadata": {},
   "outputs": [
    {
     "data": {
      "text/plain": [
       "array([ 0.00000000e+00,  7.05389590e-02,  1.40726497e-01,  2.10212942e-01,\n",
       "        2.78652117e-01,  3.45703061e-01,  4.11031729e-01,  4.74312659e-01,\n",
       "        5.35230586e-01,  5.93482022e-01,  6.48776760e-01,  7.00839325e-01,\n",
       "        7.49410344e-01,  7.94247838e-01,  8.35128429e-01,  8.71848453e-01,\n",
       "        9.04224971e-01,  9.32096686e-01,  9.55324742e-01,  9.73793418e-01,\n",
       "        9.87410705e-01,  9.96108761e-01,  9.99844253e-01,  9.98598572e-01,\n",
       "        9.92377923e-01,  9.81213297e-01,  9.65160315e-01,  9.44298953e-01,\n",
       "        9.18733142e-01,  8.88590248e-01,  8.54020442e-01,  8.15195950e-01,\n",
       "        7.72310192e-01,  7.25576824e-01,  6.75228668e-01,  6.21516557e-01,\n",
       "        5.64708082e-01,  5.05086260e-01,  4.42948123e-01,  3.78603241e-01,\n",
       "        3.12372177e-01,  2.44584890e-01,  1.75579094e-01,  1.05698571e-01,\n",
       "        3.52914639e-02, -3.52914639e-02, -1.05698571e-01, -1.75579094e-01,\n",
       "       -2.44584890e-01, -3.12372177e-01, -3.78603241e-01, -4.42948123e-01,\n",
       "       -5.05086260e-01, -5.64708082e-01, -6.21516557e-01, -6.75228668e-01,\n",
       "       -7.25576824e-01, -7.72310192e-01, -8.15195950e-01, -8.54020442e-01,\n",
       "       -8.88590248e-01, -9.18733142e-01, -9.44298953e-01, -9.65160315e-01,\n",
       "       -9.81213297e-01, -9.92377923e-01, -9.98598572e-01, -9.99844253e-01,\n",
       "       -9.96108761e-01, -9.87410705e-01, -9.73793418e-01, -9.55324742e-01,\n",
       "       -9.32096686e-01, -9.04224971e-01, -8.71848453e-01, -8.35128429e-01,\n",
       "       -7.94247838e-01, -7.49410344e-01, -7.00839325e-01, -6.48776760e-01,\n",
       "       -5.93482022e-01, -5.35230586e-01, -4.74312659e-01, -4.11031729e-01,\n",
       "       -3.45703061e-01, -2.78652117e-01, -2.10212942e-01, -1.40726497e-01,\n",
       "       -7.05389590e-02, -2.44929360e-16])"
      ]
     },
     "execution_count": 15,
     "metadata": {},
     "output_type": "execute_result"
    }
   ],
   "source": [
    "y = np.sin(x)\n",
    "y"
   ]
  },
  {
   "cell_type": "code",
   "execution_count": 10,
   "metadata": {},
   "outputs": [],
   "source": [
    "import matplotlib.pyplot as plt\n",
    "%matplotlib inline"
   ]
  },
  {
   "cell_type": "code",
   "execution_count": 11,
   "metadata": {},
   "outputs": [
    {
     "data": {
      "text/plain": [
       "[<matplotlib.lines.Line2D at 0x7f65796f6358>]"
      ]
     },
     "execution_count": 11,
     "metadata": {},
     "output_type": "execute_result"
    },
    {
     "data": {
      "image/png": "[encoded data removed]",
      "text/plain": [
       "<Figure size 432x288 with 1 Axes>"
      ]
     },
     "metadata": {
      "needs_background": "light"
     },
     "output_type": "display_data"
    }
   ],
   "source": [
    "plt.plot(x, y)"
   ]
  },
  {
   "cell_type": "code",
   "execution_count": 16,
   "metadata": {},
   "outputs": [
    {
     "data": {
      "text/plain": [
       "<matplotlib.collections.PathCollection at 0x7f6579501e10>"
      ]
     },
     "execution_count": 16,
     "metadata": {},
     "output_type": "execute_result"
    },
    {
     "data": {
      "image/png": "[encoded data removed]",
      "text/plain": [
       "<Figure size 432x288 with 1 Axes>"
      ]
     },
     "metadata": {
      "needs_background": "light"
     },
     "output_type": "display_data"
    }
   ],
   "source": [
    "plt.scatter(x, y)"
   ]
  },
  {
   "cell_type": "code",
   "execution_count": 17,
   "metadata": {},
   "outputs": [],
   "source": [
    "%config InlineBackend.figure_format='retina'"
   ]
  },
  {
   "cell_type": "code",
   "execution_count": null,
   "metadata": {},
   "outputs": [],
   "source": [
    "plt.scatter"
   ]
  }
 ],
 "metadata": {
  "kernelspec": {
   "display_name": "Python 3",
   "language": "python",
   "name": "python3"
  },
  "language_info": {
   "codemirror_mode": {
    "name": "ipython",
    "version": 3
   },
   "file_extension": ".py",
   "mimetype": "text/x-python",
   "name": "python",
   "nbconvert_exporter": "python",
   "pygments_lexer": "ipython3",
   "version": "3.5.2"
  }
 },
 "nbformat": 4,
 "nbformat_minor": 2
}

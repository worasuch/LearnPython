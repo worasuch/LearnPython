{
 "cells": [
  {
   "cell_type": "code",
   "execution_count": 1,
   "metadata": {},
   "outputs": [],
   "source": [
    "import numpy as np"
   ]
  },
  {
   "cell_type": "code",
   "execution_count": 3,
   "metadata": {},
   "outputs": [
    {
     "data": {
      "text/plain": [
       "array([ 1,  2,  3,  4,  5,  6,  7,  8,  9, 10, 11, 12, 13, 14, 15, 16, 17,\n",
       "       18, 19, 20, 21, 22, 23, 24, 25, 26, 27, 28, 29, 30, 31, 32])"
      ]
     },
     "execution_count": 3,
     "metadata": {},
     "output_type": "execute_result"
    }
   ],
   "source": [
    "a=np.arange(1, 33)\n",
    "a"
   ]
  },
  {
   "cell_type": "code",
   "execution_count": 5,
   "metadata": {},
   "outputs": [
    {
     "data": {
      "text/plain": [
       "array([28, 26, 30,  4,  8, 29, 27, 18, 12, 14, 20, 31,  7,  9, 15,  3, 16,\n",
       "        1, 19,  5, 32, 21, 13, 17,  6, 23,  2, 25, 10, 11, 22, 24])"
      ]
     },
     "execution_count": 5,
     "metadata": {},
     "output_type": "execute_result"
    }
   ],
   "source": [
    "np.random.shuffle(a) # inplace\n",
    "a"
   ]
  },
  {
   "cell_type": "code",
   "execution_count": 6,
   "metadata": {},
   "outputs": [
    {
     "data": {
      "text/plain": [
       "[array([28, 26, 30,  4]),\n",
       " array([ 8, 29, 27, 18]),\n",
       " array([12, 14, 20, 31]),\n",
       " array([ 7,  9, 15,  3]),\n",
       " array([16,  1, 19,  5]),\n",
       " array([32, 21, 13, 17]),\n",
       " array([ 6, 23,  2, 25]),\n",
       " array([10, 11, 22, 24])]"
      ]
     },
     "execution_count": 6,
     "metadata": {},
     "output_type": "execute_result"
    }
   ],
   "source": [
    "b=np.hsplit(a, 8)\n",
    "b"
   ]
  },
  {
   "cell_type": "code",
   "execution_count": 7,
   "metadata": {},
   "outputs": [
    {
     "data": {
      "text/plain": [
       "array([28, 26, 30,  4])"
      ]
     },
     "execution_count": 7,
     "metadata": {},
     "output_type": "execute_result"
    }
   ],
   "source": [
    "b[0]"
   ]
  },
  {
   "cell_type": "code",
   "execution_count": 8,
   "metadata": {},
   "outputs": [
    {
     "data": {
      "text/plain": [
       "array([ 8, 29, 27, 18])"
      ]
     },
     "execution_count": 8,
     "metadata": {},
     "output_type": "execute_result"
    }
   ],
   "source": [
    "b[1]"
   ]
  },
  {
   "cell_type": "code",
   "execution_count": 12,
   "metadata": {},
   "outputs": [
    {
     "data": {
      "text/plain": [
       "array(['Russia', 'Brazil', 'Iran', 'Japan', 'Mexico', 'Belgium',\n",
       "       'South Korea', 'Saudi Arabia', 'Germany', 'England', 'Spain',\n",
       "       'Nigeria', 'Costa Rica', 'Poland', 'Egypt', 'Iceland', 'Serbia',\n",
       "       'Portugal', 'France', 'Uruguay', 'Argentina', 'Colombia', 'Panama',\n",
       "       'Senegal', 'Morocco', 'Tunisia', 'Switzerland', 'Croatia',\n",
       "       'Sweden', 'Denmark', 'Australia', 'Peru'], dtype='<U12')"
      ]
     },
     "execution_count": 12,
     "metadata": {},
     "output_type": "execute_result"
    }
   ],
   "source": [
    "t=np.loadtxt('worldcup2018teams.txt',dtype='U', delimiter='\\n')\n",
    "t"
   ]
  },
  {
   "cell_type": "code",
   "execution_count": 13,
   "metadata": {},
   "outputs": [
    {
     "data": {
      "text/plain": [
       "array(['Egypt', 'Australia', 'Peru', 'Serbia', 'Saudi Arabia', 'Mexico',\n",
       "       'Croatia', 'Morocco', 'Iran', 'Denmark', 'Uruguay', 'Switzerland',\n",
       "       'Portugal', 'Russia', 'Costa Rica', 'Panama', 'Poland', 'Nigeria',\n",
       "       'England', 'Belgium', 'South Korea', 'Brazil', 'Spain',\n",
       "       'Argentina', 'Tunisia', 'France', 'Germany', 'Japan', 'Iceland',\n",
       "       'Colombia', 'Sweden', 'Senegal'], dtype='<U12')"
      ]
     },
     "execution_count": 13,
     "metadata": {},
     "output_type": "execute_result"
    }
   ],
   "source": [
    "np.random.shuffle(t)\n",
    "t"
   ]
  },
  {
   "cell_type": "code",
   "execution_count": 15,
   "metadata": {},
   "outputs": [
    {
     "data": {
      "text/plain": [
       "[array(['Egypt', 'Australia', 'Peru', 'Serbia'], dtype='<U12'),\n",
       " array(['Saudi Arabia', 'Mexico', 'Croatia', 'Morocco'], dtype='<U12'),\n",
       " array(['Iran', 'Denmark', 'Uruguay', 'Switzerland'], dtype='<U12'),\n",
       " array(['Portugal', 'Russia', 'Costa Rica', 'Panama'], dtype='<U12'),\n",
       " array(['Poland', 'Nigeria', 'England', 'Belgium'], dtype='<U12'),\n",
       " array(['South Korea', 'Brazil', 'Spain', 'Argentina'], dtype='<U12'),\n",
       " array(['Tunisia', 'France', 'Germany', 'Japan'], dtype='<U12'),\n",
       " array(['Iceland', 'Colombia', 'Sweden', 'Senegal'], dtype='<U12')]"
      ]
     },
     "execution_count": 15,
     "metadata": {},
     "output_type": "execute_result"
    }
   ],
   "source": [
    "grp=np.hsplit(t, 8)\n",
    "grp"
   ]
  },
  {
   "cell_type": "code",
   "execution_count": 16,
   "metadata": {},
   "outputs": [
    {
     "data": {
      "text/plain": [
       "array(['Egypt', 'Australia', 'Peru', 'Serbia'], dtype='<U12')"
      ]
     },
     "execution_count": 16,
     "metadata": {},
     "output_type": "execute_result"
    }
   ],
   "source": [
    "grp[0]"
   ]
  },
  {
   "cell_type": "code",
   "execution_count": 17,
   "metadata": {},
   "outputs": [
    {
     "data": {
      "text/plain": [
       "array(['Saudi Arabia', 'Mexico', 'Croatia', 'Morocco'], dtype='<U12')"
      ]
     },
     "execution_count": 17,
     "metadata": {},
     "output_type": "execute_result"
    }
   ],
   "source": [
    "grp[1]"
   ]
  },
  {
   "cell_type": "code",
   "execution_count": 18,
   "metadata": {},
   "outputs": [
    {
     "name": "stdout",
     "output_type": "stream",
     "text": [
      "['Egypt' 'Australia' 'Peru' 'Serbia']\n",
      "['Saudi Arabia' 'Mexico' 'Croatia' 'Morocco']\n",
      "['Iran' 'Denmark' 'Uruguay' 'Switzerland']\n",
      "['Portugal' 'Russia' 'Costa Rica' 'Panama']\n",
      "['Poland' 'Nigeria' 'England' 'Belgium']\n",
      "['South Korea' 'Brazil' 'Spain' 'Argentina']\n",
      "['Tunisia' 'France' 'Germany' 'Japan']\n",
      "['Iceland' 'Colombia' 'Sweden' 'Senegal']\n"
     ]
    }
   ],
   "source": [
    "for g in grp:\n",
    "    print(g)"
   ]
  },
  {
   "cell_type": "code",
   "execution_count": 23,
   "metadata": {},
   "outputs": [
    {
     "name": "stdout",
     "output_type": "stream",
     "text": [
      "A ['Egypt' 'Australia' 'Peru' 'Serbia']\n",
      "B ['Saudi Arabia' 'Mexico' 'Croatia' 'Morocco']\n",
      "C ['Iran' 'Denmark' 'Uruguay' 'Switzerland']\n",
      "D ['Portugal' 'Russia' 'Costa Rica' 'Panama']\n",
      "E ['Poland' 'Nigeria' 'England' 'Belgium']\n",
      "F ['South Korea' 'Brazil' 'Spain' 'Argentina']\n",
      "G ['Tunisia' 'France' 'Germany' 'Japan']\n",
      "H ['Iceland' 'Colombia' 'Sweden' 'Senegal']\n"
     ]
    }
   ],
   "source": [
    "for i, g in enumerate(grp):\n",
    "    print(chr(65+i), g)"
   ]
  },
  {
   "cell_type": "code",
   "execution_count": 25,
   "metadata": {},
   "outputs": [
    {
     "data": {
      "text/plain": [
       "array(['Mexico', 'Morocco'], dtype='<U12')"
      ]
     },
     "execution_count": 25,
     "metadata": {},
     "output_type": "execute_result"
    }
   ],
   "source": [
    "np.random.choice(grp[1], size=2, replace=False)"
   ]
  },
  {
   "cell_type": "code",
   "execution_count": 26,
   "metadata": {},
   "outputs": [
    {
     "name": "stdout",
     "output_type": "stream",
     "text": [
      "['Australia' 'Serbia']\n",
      "['Morocco' 'Croatia']\n",
      "['Iran' 'Switzerland']\n",
      "['Panama' 'Costa Rica']\n",
      "['Belgium' 'Nigeria']\n",
      "['Brazil' 'Spain']\n",
      "['Tunisia' 'Japan']\n",
      "['Sweden' 'Senegal']\n"
     ]
    }
   ],
   "source": [
    "for g in grp:\n",
    "    print(np.random.choice(g, size=2, replace=False))"
   ]
  },
  {
   "cell_type": "code",
   "execution_count": 27,
   "metadata": {},
   "outputs": [
    {
     "name": "stdout",
     "output_type": "stream",
     "text": [
      "A ['Egypt' 'Serbia']\n",
      "B ['Morocco' 'Croatia']\n",
      "C ['Uruguay' 'Switzerland']\n",
      "D ['Panama' 'Russia']\n",
      "E ['England' 'Poland']\n",
      "F ['Argentina' 'South Korea']\n",
      "G ['Tunisia' 'Germany']\n",
      "H ['Colombia' 'Senegal']\n"
     ]
    }
   ],
   "source": [
    "for i, g in enumerate(grp):\n",
    "    print(chr(65+i), np.random.choice(g, size=2, replace=False))"
   ]
  }
 ],
 "metadata": {
  "kernelspec": {
   "display_name": "Python 3",
   "language": "python",
   "name": "python3"
  },
  "language_info": {
   "codemirror_mode": {
    "name": "ipython",
    "version": 3
   },
   "file_extension": ".py",
   "mimetype": "text/x-python",
   "name": "python",
   "nbconvert_exporter": "python",
   "pygments_lexer": "ipython3",
   "version": "3.5.2"
  }
 },
 "nbformat": 4,
 "nbformat_minor": 2
}
